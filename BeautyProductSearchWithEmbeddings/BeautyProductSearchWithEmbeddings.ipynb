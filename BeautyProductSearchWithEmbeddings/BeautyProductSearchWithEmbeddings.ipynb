{
 "cells": [
  {
   "cell_type": "markdown",
   "id": "b5809492",
   "metadata": {},
   "source": [
    "# Obtener Embeddings"
   ]
  },
  {
   "cell_type": "code",
   "execution_count": null,
   "id": "cd0b98b9",
   "metadata": {},
   "outputs": [],
   "source": [
    "# Importación de las bibliotecas necesarias\n",
    "import os\n",
    "import pandas as pd\n",
    "import numpy as np\n",
    "import json\n",
    "import openai\n",
    "from openai.embeddings_utils import get_embedding\n",
    "from openai.embeddings_utils import cosine_similarity\n",
    "import pickle\n",
    "import dask.dataframe as dd\n",
    "import multiprocessing"
   ]
  },
  {
   "cell_type": "code",
   "execution_count": null,
   "id": "892723c4",
   "metadata": {},
   "outputs": [],
   "source": [
    "# Configuración de OpenAI\n",
    "openai.api_key = os.getenv('OPENAI_KEY') # reemplaza por tu API Key"
   ]
  },
  {
   "cell_type": "markdown",
   "id": "c3ac3667",
   "metadata": {},
   "source": [
    "## Sección de carga y preprocesamiento de datos"
   ]
  },
  {
   "cell_type": "code",
   "execution_count": null,
   "id": "24454b88",
   "metadata": {},
   "outputs": [],
   "source": [
    "# Ruta del archivo de datos\n",
    "path_data = 'meta_All_Beauty.json'"
   ]
  },
  {
   "cell_type": "code",
   "execution_count": null,
   "id": "74aaeb60",
   "metadata": {},
   "outputs": [],
   "source": [
    "# Función para cargar los datos del archivo JSON\n",
    "def load_data(path):\n",
    "    data = []\n",
    "    with open(path, 'r') as file:\n",
    "        for line in file:\n",
    "            data.append(json.loads(line.strip()))\n",
    "    return data"
   ]
  },
  {
   "cell_type": "code",
   "execution_count": null,
   "id": "4f7aaa86",
   "metadata": {},
   "outputs": [],
   "source": [
    "# Función para procesar la lista de datos en formato JSON\n",
    "def process_json(json_data):\n",
    "    for item in json_data:\n",
    "        description = ' '.join(item['description'])\n",
    "        item['description'] = description\n",
    "        category = ','.join(item['category'])\n",
    "        item['category'] = category    \n",
    "    return json_data"
   ]
  },
  {
   "cell_type": "code",
   "execution_count": null,
   "id": "99a9f9c0",
   "metadata": {},
   "outputs": [],
   "source": [
    "# Carga de datos\n",
    "data_json = load_data(path_data)\n",
    "\n",
    "# Procesamiento de datos\n",
    "data_json = process_json(data_json)[:500] # Aquí solo se toman los primeros 500 registros si quieres puedes quitar esta restricción y ejecutarlo para los 32k productos\n",
    "\n",
    "# Creación de un DataFrame\n",
    "df = pd.DataFrame(data_json)"
   ]
  },
  {
   "cell_type": "markdown",
   "id": "9df5d63f",
   "metadata": {},
   "source": [
    "## Sección de generación de embeddings"
   ]
  },
  {
   "cell_type": "code",
   "execution_count": null,
   "id": "036119d7",
   "metadata": {},
   "outputs": [],
   "source": [
    "# Función para crear el embedding de un producto\n",
    "def get_embedding_product(title, description):\n",
    "    max_len = 8190 # Esto debido a que OpenAI tiene un limite de 8191\n",
    "    data = f'title: {title} description:{description}'[:max_len]\n",
    "    return get_embedding(data, engine='text-embedding-ada-002')"
   ]
  },
  {
   "cell_type": "code",
   "execution_count": null,
   "id": "a8a705b8",
   "metadata": {},
   "outputs": [],
   "source": [
    "# Creación de un Dask DataFrame para el cálculo paralelo\n",
    "n_cores = multiprocessing.cpu_count()\n",
    "ddf = dd.from_pandas(df, npartitions=n_cores)"
   ]
  },
  {
   "cell_type": "code",
   "execution_count": null,
   "id": "78293432",
   "metadata": {},
   "outputs": [],
   "source": [
    "%%time\n",
    "ddf['embedding'] = ddf.map_partitions(lambda df: df.apply(lambda row: get_embedding_product(row['title'], row['description']), axis=1)).compute(scheduler='threads')\n",
    "# Esta celda para los 32k tuvo las siguientes metricas\n",
    "# CPU times: total: 8.67 s\n",
    "# Wall time: 18min 42s"
   ]
  },
  {
   "cell_type": "code",
   "execution_count": null,
   "id": "b58e6b36",
   "metadata": {},
   "outputs": [],
   "source": [
    "df = ddf.compute()"
   ]
  },
  {
   "cell_type": "markdown",
   "id": "f9c8f325",
   "metadata": {},
   "source": [
    "## Sección de almacenamiento"
   ]
  },
  {
   "cell_type": "code",
   "execution_count": null,
   "id": "adf653ec",
   "metadata": {},
   "outputs": [],
   "source": [
    "# Lo guardamos para no tener que volver a calcular los embeddings y reutilizarlos\n",
    "path_save = 'meta_All_Beauty.pickle'\n",
    "df.to_pickle(path_save) "
   ]
  },
  {
   "cell_type": "markdown",
   "id": "6efd31ca",
   "metadata": {},
   "source": [
    "# Playground"
   ]
  },
  {
   "cell_type": "code",
   "execution_count": null,
   "id": "7a98add9",
   "metadata": {},
   "outputs": [],
   "source": [
    "# Importación de las bibliotecas necesarias\n",
    "import os\n",
    "import pandas as pd\n",
    "import openai\n",
    "from openai.embeddings_utils import get_embedding\n",
    "from openai.embeddings_utils import cosine_similarity\n",
    "import pickle\n",
    "from pandas import option_context"
   ]
  },
  {
   "cell_type": "code",
   "execution_count": null,
   "id": "034d1458",
   "metadata": {},
   "outputs": [],
   "source": [
    "# Configuración de OpenAI\n",
    "openai.api_key = os.getenv('OPENAI_KEY') # reemplaza por tu API Key"
   ]
  },
  {
   "cell_type": "code",
   "execution_count": null,
   "id": "1203fa19",
   "metadata": {},
   "outputs": [],
   "source": [
    "# Leyendo el DataFrame del archivo\n",
    "path_save = 'processed.pickle'\n",
    "df = pd.read_pickle(path_save)"
   ]
  },
  {
   "cell_type": "code",
   "execution_count": null,
   "id": "52f6e0e7",
   "metadata": {},
   "outputs": [],
   "source": [
    "# Función para realizar una búsqueda\n",
    "def search(query, data, n_results=15):\n",
    "    search_embed = get_embedding(query, engine=\"text-embedding-ada-002\")\n",
    "    data[\"similarity\"] = data['embedding'].apply(lambda x: cosine_similarity(x, search_embed))\n",
    "    data = data.sort_values(\"similarity\", ascending=False)\n",
    "    return data.iloc[:n_results]"
   ]
  },
  {
   "cell_type": "code",
   "execution_count": null,
   "id": "86cdf748",
   "metadata": {},
   "outputs": [],
   "source": [
    "%%time\n",
    "results = search(\"crema facial\", df)"
   ]
  },
  {
   "cell_type": "code",
   "execution_count": null,
   "id": "1f591232",
   "metadata": {},
   "outputs": [],
   "source": [
    "pd.set_option('display.max_colwidth', None)\n",
    "results[['title', 'description']]"
   ]
  },
  {
   "cell_type": "code",
   "execution_count": null,
   "id": "46b78427",
   "metadata": {},
   "outputs": [],
   "source": [
    "pd.reset_option('display.max_colwidth')"
   ]
  }
 ],
 "metadata": {
  "kernelspec": {
   "display_name": "Python 3 (ipykernel)",
   "language": "python",
   "name": "python3"
  },
  "language_info": {
   "codemirror_mode": {
    "name": "ipython",
    "version": 3
   },
   "file_extension": ".py",
   "mimetype": "text/x-python",
   "name": "python",
   "nbconvert_exporter": "python",
   "pygments_lexer": "ipython3",
   "version": "3.9.10"
  }
 },
 "nbformat": 4,
 "nbformat_minor": 5
}
